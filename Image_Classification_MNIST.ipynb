{
  "nbformat": 4,
  "nbformat_minor": 0,
  "metadata": {
    "accelerator": "GPU",
    "colab": {
      "name": "Image Classification_MNIST",
      "provenance": [],
      "collapsed_sections": [],
      "include_colab_link": true
    },
    "kernelspec": {
      "display_name": "Python 3",
      "language": "python",
      "name": "python3"
    },
    "language_info": {
      "codemirror_mode": {
        "name": "ipython",
        "version": 3
      },
      "file_extension": ".py",
      "mimetype": "text/x-python",
      "name": "python",
      "nbconvert_exporter": "python",
      "pygments_lexer": "ipython3",
      "version": "3.6.6"
    }
  },
  "cells": [
    {
      "cell_type": "markdown",
      "metadata": {
        "id": "view-in-github",
        "colab_type": "text"
      },
      "source": [
        "<a href=\"https://colab.research.google.com/github/yoonhyeyoon/DeepLearning/blob/main/Image_Classification_MNIST.ipynb\" target=\"_parent\"><img src=\"https://colab.research.google.com/assets/colab-badge.svg\" alt=\"Open In Colab\"/></a>"
      ]
    },
    {
      "cell_type": "markdown",
      "metadata": {
        "id": "vY-Ca0dhGTAk"
      },
      "source": [
        "# Category\n",
        "\n",
        "Fully Connected Layer (Dense)를 활용한 이미지 분류 (Image Classification)"
      ]
    },
    {
      "cell_type": "markdown",
      "metadata": {
        "id": "1yoe-K38GQ4b"
      },
      "source": [
        "## 순서"
      ]
    },
    {
      "cell_type": "markdown",
      "metadata": {
        "id": "Bc6iTV8DGPop"
      },
      "source": [
        "1. **import**\n",
        "2. **전처리**\n",
        "3. **모델링(model)**\n",
        "4. **컴파일(compile)**\n",
        "5. **학습 (fit)**"
      ]
    },
    {
      "cell_type": "markdown",
      "metadata": {
        "id": "rK6HdzR7nil3"
      },
      "source": [
        "## 문제"
      ]
    },
    {
      "cell_type": "markdown",
      "metadata": {
        "id": "1Ztkqgwqnil3"
      },
      "source": [
        "Create a classifier for the MNIST dataset\n",
        "<br>Note that the test will expect it to classify 10 classes and that the \n",
        "<br>input shape should be the native size of the MNIST dataset which is \n",
        "<br>28x28 monochrome. Do not resize the data. Your input layer should accept\n",
        "<br>\\(28,28) as the input shape only. If you amend this, the tests will fail."
      ]
    },
    {
      "cell_type": "markdown",
      "metadata": {
        "id": "1JDqQLWCnil4"
      },
      "source": [
        "MNIST(손글씨) 데이터 세트에 대한 분류기를 작성하십시오.\n",
        "<br>테스트는 10 개의 클래스를 분류 하도록 합니다.\n",
        "<br>입력 모양은 28x28 (흑백) 인 MNIST 데이터 세트의 기본 크기 여야합니다. \n",
        "<br>데이터 크기를 조정하지 마십시오. \n",
        "<br>입력 레이어는 입력 모양으로 (28,28) 만 허용해야합니다. \n",
        "<br>이를 수정하면 테스트가 실패합니다."
      ]
    },
    {
      "cell_type": "markdown",
      "metadata": {
        "id": "OAvRmF3_HMIu"
      },
      "source": [
        "------------------------------------"
      ]
    },
    {
      "cell_type": "markdown",
      "metadata": {
        "id": "1dWL4Kn7G4eH"
      },
      "source": [
        "# 실습"
      ]
    },
    {
      "cell_type": "markdown",
      "metadata": {
        "id": "UrUNBY6xHH6m"
      },
      "source": [
        "## STEP 1. import"
      ]
    },
    {
      "cell_type": "code",
      "metadata": {
        "id": "G9M_SARJnil5"
      },
      "source": [
        "import numpy as np\n",
        "import matplotlib.pyplot as plt\n",
        "import tensorflow as tf\n",
        "\n",
        "from tensorflow.keras.layers import Dense, Flatten\n",
        "from tensorflow.keras.models import Sequential\n",
        "from tensorflow.keras.callbacks import ModelCheckpoint"
      ],
      "execution_count": null,
      "outputs": []
    },
    {
      "cell_type": "markdown",
      "metadata": {
        "id": "2HGYCJ1Tnil7"
      },
      "source": [
        "## STEP 2. 전처리 (pre-processing)"
      ]
    },
    {
      "cell_type": "markdown",
      "metadata": {
        "id": "Kg0sXFW2nil7"
      },
      "source": [
        "**tf.keras.datasets** 에는 다양한 샘플 데이터를 제공해줌"
      ]
    },
    {
      "cell_type": "markdown",
      "metadata": {
        "id": "H43uLfTrHERV"
      },
      "source": [
        "\n",
        "[tf.keras.datasets](https://www.tensorflow.org/api_docs/python/tf/keras/datasets)\n",
        "\n",
        "* **fashion_mnist**: Fashion-MNIST 옷(패션) 데이터 셋\n",
        "\n",
        "* **mnist**: MNIST 손글씨 데이터 셋"
      ]
    },
    {
      "cell_type": "markdown",
      "metadata": {
        "id": "PPpM4Xy5HsoH"
      },
      "source": [
        "데이터 셋을 **로드** 한다. (mnist)"
      ]
    },
    {
      "cell_type": "markdown",
      "metadata": {
        "id": "vV5IsHOqMLnl"
      },
      "source": [
        "[코드]"
      ]
    },
    {
      "cell_type": "code",
      "metadata": {
        "id": "nWsdj7Dgnil8"
      },
      "source": [
        "mnist = tf.keras.datasets.mnist"
      ],
      "execution_count": null,
      "outputs": []
    },
    {
      "cell_type": "markdown",
      "metadata": {
        "id": "H05dHM_HoSYO"
      },
      "source": [
        "데이터 셋 로드: \n",
        "* **mnist.load_data()**\n",
        "* **fashion_mnist.load_data()**"
      ]
    },
    {
      "cell_type": "markdown",
      "metadata": {
        "id": "yvRH71ADI_dw"
      },
      "source": [
        "데이터 셋을 불러와, train / validation 세트를 구성한다."
      ]
    },
    {
      "cell_type": "markdown",
      "metadata": {
        "id": "1kv3nb02MJfj"
      },
      "source": [
        "[코드] "
      ]
    },
    {
      "cell_type": "code",
      "metadata": {
        "id": "JWSZUSoWnil_",
        "colab": {
          "base_uri": "https://localhost:8080/"
        },
        "outputId": "d9db059c-2fe4-435c-f879-d08e214b258f"
      },
      "source": [
        "(x_train, y_train), (x_valid, y_valid) = mnist.load_data()"
      ],
      "execution_count": null,
      "outputs": [
        {
          "output_type": "stream",
          "text": [
            "Downloading data from https://storage.googleapis.com/tensorflow/tf-keras-datasets/mnist.npz\n",
            "11493376/11490434 [==============================] - 0s 0us/step\n"
          ],
          "name": "stdout"
        }
      ]
    },
    {
      "cell_type": "markdown",
      "metadata": {
        "id": "uUCrDWFcH5O3"
      },
      "source": [
        "정상적으로 로드되었는지, **확인**"
      ]
    },
    {
      "cell_type": "code",
      "metadata": {
        "id": "tQINRel7nimB",
        "colab": {
          "base_uri": "https://localhost:8080/"
        },
        "outputId": "45e38068-0d22-4543-e8e0-0aa3610ca1a8"
      },
      "source": [
        "x_train.shape, x_valid.shape"
      ],
      "execution_count": null,
      "outputs": [
        {
          "output_type": "execute_result",
          "data": {
            "text/plain": [
              "((60000, 28, 28), (10000, 28, 28))"
            ]
          },
          "metadata": {
            "tags": []
          },
          "execution_count": 14
        }
      ]
    },
    {
      "cell_type": "code",
      "metadata": {
        "id": "xU_nKXIuH8O-",
        "colab": {
          "base_uri": "https://localhost:8080/"
        },
        "outputId": "7df55e0e-02e5-4c2b-aa92-a8db4713b60c"
      },
      "source": [
        "y_train.shape, y_valid.shape"
      ],
      "execution_count": null,
      "outputs": [
        {
          "output_type": "execute_result",
          "data": {
            "text/plain": [
              "((60000,), (10000,))"
            ]
          },
          "metadata": {
            "tags": []
          },
          "execution_count": 15
        }
      ]
    },
    {
      "cell_type": "markdown",
      "metadata": {
        "id": "NlgeikIJkIE3"
      },
      "source": [
        "**데이터셋 시각화**"
      ]
    },
    {
      "cell_type": "code",
      "metadata": {
        "id": "cKeqjWoGkHkw",
        "colab": {
          "base_uri": "https://localhost:8080/",
          "height": 350
        },
        "outputId": "6a96cef4-fbbe-4c71-cebd-3b4f5da79d48"
      },
      "source": [
        "fig, axes = plt.subplots(2, 5)\n",
        "fig.set_size_inches(10, 5)\n",
        "\n",
        "for i in range(10):\n",
        "    axes[i//5, i%5].imshow(x_train[i], cmap='gray')\n",
        "    axes[i//5, i%5].set_title('No. %02d' % y_train[i], fontsize=18)\n",
        "    plt.setp( axes[i//5, i%5].get_xticklabels(), visible=False)\n",
        "    plt.setp( axes[i//5, i%5].get_yticklabels(), visible=False)\n",
        "    axes[i//5, i%5].axis('off')\n",
        "\n",
        "plt.tight_layout()\n",
        "plt.show()"
      ],
      "execution_count": null,
      "outputs": [
        {
          "output_type": "display_data",
          "data": {
            "image/png": "[encoded data removed]",
            "text/plain": [
              "<Figure size 720x360 with 10 Axes>"
            ]
          },
          "metadata": {
            "tags": []
          }
        }
      ]
    },
    {
      "cell_type": "markdown",
      "metadata": {
        "id": "JwOpcgkRny5W"
      },
      "source": [
        "**이미지 정규화 (Normalization)**\n",
        "\n",
        "* 모든 이미지 픽셀(pixel)값들을 0~1 사이의 값으로 정규화\n",
        "* x_train, x_valid 에 대해서만 정규화"
      ]
    },
    {
      "cell_type": "markdown",
      "metadata": {
        "id": "fYMtbN69MPkm"
      },
      "source": [
        "[코드]"
      ]
    },
    {
      "cell_type": "code",
      "metadata": {
        "id": "lFArqzZCntDh",
        "colab": {
          "base_uri": "https://localhost:8080/"
        },
        "outputId": "27032db9-5f03-4791-fe06-9a35c7972c03"
      },
      "source": [
        "x_train.min(), x_train.max()"
      ],
      "execution_count": null,
      "outputs": [
        {
          "output_type": "execute_result",
          "data": {
            "text/plain": [
              "(0, 255)"
            ]
          },
          "metadata": {
            "tags": []
          },
          "execution_count": 17
        }
      ]
    },
    {
      "cell_type": "code",
      "metadata": {
        "id": "Flbw6WTI_d4g"
      },
      "source": [
        "x_train = x_train / 255\n",
        "x_valid = x_valid / 255"
      ],
      "execution_count": null,
      "outputs": []
    },
    {
      "cell_type": "code",
      "metadata": {
        "colab": {
          "base_uri": "https://localhost:8080/"
        },
        "id": "T8mkfML8_x5p",
        "outputId": "7ab32c1f-eb0d-4e41-988d-9857a56c93e4"
      },
      "source": [
        "x_train.min(), x_train.max()"
      ],
      "execution_count": null,
      "outputs": [
        {
          "output_type": "execute_result",
          "data": {
            "text/plain": [
              "(0.0, 1.0)"
            ]
          },
          "metadata": {
            "tags": []
          },
          "execution_count": 19
        }
      ]
    },
    {
      "cell_type": "markdown",
      "metadata": {
        "id": "qus44o00Jo77"
      },
      "source": [
        "## STEP 3. 모델 정의 (Sequential)"
      ]
    },
    {
      "cell_type": "markdown",
      "metadata": {
        "id": "azRvYVbQnim5"
      },
      "source": [
        "Modeling\n",
        "\n",
        "`Sequential` 모델 안에서 층을 깊게 쌓아 올려 준다.\n",
        "\n",
        "1. Dense 레이어는 2D 형태의 데이터를 받아들이지 못한다. Flatten 레이어로 2D -> 1D로 변환\n",
        "2. 깊은 출력층과 더 많은 Layer를 쌓는다.\n",
        "3. Dense Layer에 `activation='relu'`를 적용한다.\n",
        "4. 분류(Classification)의 마지막 층의 출력 숫자는 분류하고자 하는 클래스 갯수와 **같아야** 한다.\n"
      ]
    },
    {
      "cell_type": "markdown",
      "metadata": {
        "id": "uPXabQxgMGCp"
      },
      "source": [
        "[코드]"
      ]
    },
    {
      "cell_type": "code",
      "metadata": {
        "id": "PCDinGHSnim5"
      },
      "source": [
        "model = Sequential([\n",
        "    # Flatten으로 shape 펼치기, input_shape는 (28, 28)로 지정\n",
        "    Flatten(input_shape=(28, 28)),\n",
        "    # Dense Layer\n",
        "    Dense(1024, activation='relu'),\n",
        "    Dense(512, activation='relu'),\n",
        "    Dense(256, activation='relu'),\n",
        "    Dense(128, activation='relu'),\n",
        "    Dense(64, activation='relu'),\n",
        "    Dense(32, activation='relu'),\n",
        "    # Classification을 위한 Softmax \n",
        "    Dense(10, activation='softmax'),\n",
        "    # 출력층의 갯수는 클래스의 갯수와 동일하게 맞춰준다. (10개), activation 잊지않기\n",
        "    \n",
        "])"
      ],
      "execution_count": null,
      "outputs": []
    },
    {
      "cell_type": "markdown",
      "metadata": {
        "id": "3aR788REKyB3"
      },
      "source": [
        "모델에 대한 **요약**을 확인"
      ]
    },
    {
      "cell_type": "code",
      "metadata": {
        "id": "5u4rp7tB-4A1",
        "colab": {
          "base_uri": "https://localhost:8080/"
        },
        "outputId": "98b6adb1-4987-423c-d98c-6adcf17cc770"
      },
      "source": [
        "model.summary()"
      ],
      "execution_count": null,
      "outputs": [
        {
          "output_type": "stream",
          "text": [
            "Model: \"sequential\"\n",
            "_________________________________________________________________\n",
            "Layer (type)                 Output Shape              Param #   \n",
            "=================================================================\n",
            "flatten_1 (Flatten)          (None, 784)               0         \n",
            "_________________________________________________________________\n",
            "dense_6 (Dense)              (None, 1024)              803840    \n",
            "_________________________________________________________________\n",
            "dense_7 (Dense)              (None, 512)               524800    \n",
            "_________________________________________________________________\n",
            "dense_8 (Dense)              (None, 256)               131328    \n",
            "_________________________________________________________________\n",
            "dense_9 (Dense)              (None, 128)               32896     \n",
            "_________________________________________________________________\n",
            "dense_10 (Dense)             (None, 64)                8256      \n",
            "_________________________________________________________________\n",
            "dense_11 (Dense)             (None, 32)                2080      \n",
            "_________________________________________________________________\n",
            "dense_12 (Dense)             (None, 10)                330       \n",
            "=================================================================\n",
            "Total params: 1,503,530\n",
            "Trainable params: 1,503,530\n",
            "Non-trainable params: 0\n",
            "_________________________________________________________________\n"
          ],
          "name": "stdout"
        }
      ]
    },
    {
      "cell_type": "markdown",
      "metadata": {
        "id": "wnmQV-fDnim8"
      },
      "source": [
        "## STEP 4. optimizer, loss"
      ]
    },
    {
      "cell_type": "markdown",
      "metadata": {
        "id": "pHQ1abHXK8e9"
      },
      "source": [
        "1. `optimizer`는 가장 최적화가 잘되는 알고리즘인 'adam'을 사용\n",
        "2. `loss`는 무엇을 지정하면 좋을까? (`categorical_crossentropy` / `sparse_categorical_crossentropy`)\n",
        "3. `metrics`를 'acc' 혹은 'accuracy'로 지정하면, 학습시 정확도를 모니터링 할 수 있다."
      ]
    },
    {
      "cell_type": "markdown",
      "metadata": {
        "id": "J2cOSOycMReV"
      },
      "source": [
        "[코드]"
      ]
    },
    {
      "cell_type": "code",
      "metadata": {
        "id": "QCLw6RMZnim-",
        "colab": {
          "base_uri": "https://localhost:8080/"
        },
        "outputId": "70a277fb-b808-447b-e6f3-bfde08915e36"
      },
      "source": [
        "y_train"
      ],
      "execution_count": null,
      "outputs": [
        {
          "output_type": "execute_result",
          "data": {
            "text/plain": [
              "array([5, 0, 4, ..., 5, 6, 8], dtype=uint8)"
            ]
          },
          "metadata": {
            "tags": []
          },
          "execution_count": 23
        }
      ]
    },
    {
      "cell_type": "code",
      "metadata": {
        "id": "7yDh2A3CBAaL"
      },
      "source": [
        "model.compile(optimizer='adam', loss='sparse_categorical_crossentropy', metrics=['acc'])"
      ],
      "execution_count": null,
      "outputs": []
    },
    {
      "cell_type": "markdown",
      "metadata": {
        "id": "NyLUPgGCninB"
      },
      "source": [
        "## STEP 5. ModelCheckpoint"
      ]
    },
    {
      "cell_type": "markdown",
      "metadata": {
        "id": "46Oi04ZMLtEB"
      },
      "source": [
        "`val_loss` 기준으로 epoch 마다 최적의 모델을 저장하기 위하여, ModelCheckpoint를 만든다.\n",
        "* `checkpoint_path`는 모델이 저장될 파일 명을 설정\n",
        "* `ModelCheckpoint`을 선언하고, 적절한 옵션 값을 지정"
      ]
    },
    {
      "cell_type": "markdown",
      "metadata": {
        "id": "r_rJ4iAdMSc8"
      },
      "source": [
        "[코드]"
      ]
    },
    {
      "cell_type": "code",
      "metadata": {
        "id": "qJwGq3PoninB"
      },
      "source": [
        "checkpoint_path = \"my_checkpoint.ckpt\"\n",
        "checkpoint = ModelCheckpoint(filepath=checkpoint_path,\n",
        "                             save_weights_only=True,\n",
        "                             save_best_only=True,\n",
        "                             monitor='val_loss',\n",
        "                             verbose=1)"
      ],
      "execution_count": null,
      "outputs": []
    },
    {
      "cell_type": "markdown",
      "metadata": {
        "id": "v3mjb5EAninE"
      },
      "source": [
        "## STEP 6. 학습 (fit)"
      ]
    },
    {
      "cell_type": "markdown",
      "metadata": {
        "id": "3-X6hK_DMYZH"
      },
      "source": [
        "1. `validation_data`를 반드시 지정\n",
        "2. `epochs`을 적절하게 지정\n",
        "3. `callbacks`에 바로 위에서 만든 checkpoint를 지정"
      ]
    },
    {
      "cell_type": "markdown",
      "metadata": {
        "id": "7ic2FoiBMTgp"
      },
      "source": [
        "[코드]"
      ]
    },
    {
      "cell_type": "code",
      "metadata": {
        "id": "2uHXDA_vninF",
        "colab": {
          "base_uri": "https://localhost:8080/"
        },
        "outputId": "509bac03-c18b-4e7b-8e9c-95356e224dc5"
      },
      "source": [
        "history = model.fit(x_train, y_train,\n",
        "                    validation_data=(x_valid, y_valid),\n",
        "                    epochs=20,\n",
        "                    callbacks=[checkpoint],\n",
        "                    )"
      ],
      "execution_count": null,
      "outputs": [
        {
          "output_type": "stream",
          "text": [
            "Epoch 1/20\n",
            "1875/1875 [==============================] - 8s 3ms/step - loss: 0.2406 - acc: 0.9300 - val_loss: 0.1199 - val_acc: 0.9651\n",
            "\n",
            "Epoch 00001: val_loss improved from inf to 0.11986, saving model to my_checkpoint.ckpt\n",
            "Epoch 2/20\n",
            "1875/1875 [==============================] - 5s 2ms/step - loss: 0.1053 - acc: 0.9700 - val_loss: 0.1094 - val_acc: 0.9716\n",
            "\n",
            "Epoch 00002: val_loss improved from 0.11986 to 0.10936, saving model to my_checkpoint.ckpt\n",
            "Epoch 3/20\n",
            "1875/1875 [==============================] - 4s 2ms/step - loss: 0.0788 - acc: 0.9780 - val_loss: 0.0795 - val_acc: 0.9796\n",
            "\n",
            "Epoch 00003: val_loss improved from 0.10936 to 0.07953, saving model to my_checkpoint.ckpt\n",
            "Epoch 4/20\n",
            "1875/1875 [==============================] - 4s 2ms/step - loss: 0.0637 - acc: 0.9823 - val_loss: 0.0983 - val_acc: 0.9750\n",
            "\n",
            "Epoch 00004: val_loss did not improve from 0.07953\n",
            "Epoch 5/20\n",
            "1875/1875 [==============================] - 4s 2ms/step - loss: 0.0502 - acc: 0.9859 - val_loss: 0.0896 - val_acc: 0.9774\n",
            "\n",
            "Epoch 00005: val_loss did not improve from 0.07953\n",
            "Epoch 6/20\n",
            "1875/1875 [==============================] - 4s 2ms/step - loss: 0.0456 - acc: 0.9877 - val_loss: 0.0691 - val_acc: 0.9822\n",
            "\n",
            "Epoch 00006: val_loss improved from 0.07953 to 0.06907, saving model to my_checkpoint.ckpt\n",
            "Epoch 7/20\n",
            "1875/1875 [==============================] - 5s 3ms/step - loss: 0.0408 - acc: 0.9894 - val_loss: 0.0743 - val_acc: 0.9808\n",
            "\n",
            "Epoch 00007: val_loss did not improve from 0.06907\n",
            "Epoch 8/20\n",
            "1875/1875 [==============================] - 5s 3ms/step - loss: 0.0326 - acc: 0.9910 - val_loss: 0.0976 - val_acc: 0.9764\n",
            "\n",
            "Epoch 00008: val_loss did not improve from 0.06907\n",
            "Epoch 9/20\n",
            "1875/1875 [==============================] - 5s 3ms/step - loss: 0.0309 - acc: 0.9917 - val_loss: 0.0802 - val_acc: 0.9827\n",
            "\n",
            "Epoch 00009: val_loss did not improve from 0.06907\n",
            "Epoch 10/20\n",
            "1875/1875 [==============================] - 5s 3ms/step - loss: 0.0264 - acc: 0.9927 - val_loss: 0.1327 - val_acc: 0.9758\n",
            "\n",
            "Epoch 00010: val_loss did not improve from 0.06907\n",
            "Epoch 11/20\n",
            "1875/1875 [==============================] - 5s 3ms/step - loss: 0.0252 - acc: 0.9934 - val_loss: 0.1212 - val_acc: 0.9774\n",
            "\n",
            "Epoch 00011: val_loss did not improve from 0.06907\n",
            "Epoch 12/20\n",
            "1875/1875 [==============================] - 5s 3ms/step - loss: 0.0282 - acc: 0.9927 - val_loss: 0.1099 - val_acc: 0.9786\n",
            "\n",
            "Epoch 00012: val_loss did not improve from 0.06907\n",
            "Epoch 13/20\n",
            "1875/1875 [==============================] - 5s 3ms/step - loss: 0.0207 - acc: 0.9946 - val_loss: 0.1017 - val_acc: 0.9849\n",
            "\n",
            "Epoch 00013: val_loss did not improve from 0.06907\n",
            "Epoch 14/20\n",
            "1875/1875 [==============================] - 5s 2ms/step - loss: 0.0237 - acc: 0.9945 - val_loss: 0.0950 - val_acc: 0.9823\n",
            "\n",
            "Epoch 00014: val_loss did not improve from 0.06907\n",
            "Epoch 15/20\n",
            "1875/1875 [==============================] - 5s 3ms/step - loss: 0.0228 - acc: 0.9951 - val_loss: 0.0985 - val_acc: 0.9810\n",
            "\n",
            "Epoch 00015: val_loss did not improve from 0.06907\n",
            "Epoch 16/20\n",
            "1875/1875 [==============================] - 5s 2ms/step - loss: 0.0209 - acc: 0.9949 - val_loss: 0.0925 - val_acc: 0.9846\n",
            "\n",
            "Epoch 00016: val_loss did not improve from 0.06907\n",
            "Epoch 17/20\n",
            "1875/1875 [==============================] - 5s 3ms/step - loss: 0.0138 - acc: 0.9967 - val_loss: 0.1399 - val_acc: 0.9812\n",
            "\n",
            "Epoch 00017: val_loss did not improve from 0.06907\n",
            "Epoch 18/20\n",
            "1875/1875 [==============================] - 5s 3ms/step - loss: 0.0181 - acc: 0.9956 - val_loss: 0.1302 - val_acc: 0.9824\n",
            "\n",
            "Epoch 00018: val_loss did not improve from 0.06907\n",
            "Epoch 19/20\n",
            "1875/1875 [==============================] - 5s 3ms/step - loss: 0.0190 - acc: 0.9955 - val_loss: 0.1306 - val_acc: 0.9791\n",
            "\n",
            "Epoch 00019: val_loss did not improve from 0.06907\n",
            "Epoch 20/20\n",
            "1875/1875 [==============================] - 5s 3ms/step - loss: 0.0167 - acc: 0.9965 - val_loss: 0.1244 - val_acc: 0.9816\n",
            "\n",
            "Epoch 00020: val_loss did not improve from 0.06907\n"
          ],
          "name": "stdout"
        }
      ]
    },
    {
      "cell_type": "markdown",
      "metadata": {
        "id": "shzhTOjAninH"
      },
      "source": [
        "## STEP 7. 학습 완료 후 Load Weights (ModelCheckpoint)"
      ]
    },
    {
      "cell_type": "markdown",
      "metadata": {
        "id": "kLqb_6XrMvdq"
      },
      "source": [
        "학습이 완료된 후에는 반드시 `load_weights`를 해주어야 한다.\n",
        "\n",
        "그렇지 않으면, 열심히 ModelCheckpoint를 만든 의미가 없음"
      ]
    },
    {
      "cell_type": "markdown",
      "metadata": {
        "id": "jcXHQ_pNM_zA"
      },
      "source": [
        "[코드]"
      ]
    },
    {
      "cell_type": "code",
      "metadata": {
        "id": "4jO1ucZ9ninH",
        "colab": {
          "base_uri": "https://localhost:8080/"
        },
        "outputId": "60fbe480-5ee4-40e8-d43d-0e6cc3a48b03"
      },
      "source": [
        "model.load_weights(checkpoint_path)"
      ],
      "execution_count": null,
      "outputs": [
        {
          "output_type": "execute_result",
          "data": {
            "text/plain": [
              "<tensorflow.python.training.tracking.util.CheckpointLoadStatus at 0x7f7952f16cd0>"
            ]
          },
          "metadata": {
            "tags": []
          },
          "execution_count": 30
        }
      ]
    },
    {
      "cell_type": "code",
      "metadata": {
        "colab": {
          "base_uri": "https://localhost:8080/"
        },
        "id": "_BzuGaaUDDpP",
        "outputId": "0917a6e7-41f4-4e6f-dfd8-5c5abc50e463"
      },
      "source": [
        "model.evaluate(x_valid, y_valid)"
      ],
      "execution_count": null,
      "outputs": [
        {
          "output_type": "stream",
          "text": [
            "313/313 [==============================] - 1s 2ms/step - loss: 0.0691 - acc: 0.9822\n"
          ],
          "name": "stdout"
        },
        {
          "output_type": "execute_result",
          "data": {
            "text/plain": [
              "[0.06906812638044357, 0.982200026512146]"
            ]
          },
          "metadata": {
            "tags": []
          },
          "execution_count": 32
        }
      ]
    },
    {
      "cell_type": "code",
      "metadata": {
        "id": "DkhVoU5gDKH8"
      },
      "source": [
        ""
      ],
      "execution_count": null,
      "outputs": []
    }
  ]
}