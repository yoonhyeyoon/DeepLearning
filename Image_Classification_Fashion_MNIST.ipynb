{
  "nbformat": 4,
  "nbformat_minor": 0,
  "metadata": {
    "accelerator": "GPU",
    "colab": {
      "name": "Image Classification_Fashion MNIST",
      "provenance": [],
      "collapsed_sections": [],
      "include_colab_link": true
    },
    "kernelspec": {
      "display_name": "Python 3",
      "language": "python",
      "name": "python3"
    },
    "language_info": {
      "codemirror_mode": {
        "name": "ipython",
        "version": 3
      },
      "file_extension": ".py",
      "mimetype": "text/x-python",
      "name": "python",
      "nbconvert_exporter": "python",
      "pygments_lexer": "ipython3",
      "version": "3.6.6"
    }
  },
  "cells": [
    {
      "cell_type": "markdown",
      "metadata": {
        "id": "view-in-github",
        "colab_type": "text"
      },
      "source": [
        "<a href=\"https://colab.research.google.com/github/yoonhyeyoon/DeepLearning/blob/main/Image_Classification_Fashion_MNIST.ipynb\" target=\"_parent\"><img src=\"https://colab.research.google.com/assets/colab-badge.svg\" alt=\"Open In Colab\"/></a>"
      ]
    },
    {
      "cell_type": "markdown",
      "metadata": {
        "id": "vY-Ca0dhGTAk"
      },
      "source": [
        "# Category\n",
        "\n",
        "Fully Connected Layer (Dense)를 활용한 이미지 분류 (Image Classification)"
      ]
    },
    {
      "cell_type": "markdown",
      "metadata": {
        "id": "msi1agesayxW"
      },
      "source": [
        "## 문제"
      ]
    },
    {
      "cell_type": "markdown",
      "metadata": {
        "id": "K2BLvK-5ayxW"
      },
      "source": [
        "Create a classifier for the Fashion MNIST dataset\n",
        "\n",
        "Note that the test will expect it to classify 10 classes and that \n",
        "\n",
        "the input shape should be the native size of the Fashion MNIST dataset which is 28x28 monochrome. \n",
        "\n",
        "Do not resize the data. Your input layer should accept\n",
        "\n",
        "(28,28) as the input shape only. \n",
        "\n",
        "If you amend this, the tests will fail."
      ]
    },
    {
      "cell_type": "markdown",
      "metadata": {
        "id": "T4eg-t_payxX"
      },
      "source": [
        "Fashion MNIST 데이터 셋에 대한 분류기 생성\n",
        "테스트는 10 개의 클래스를 분류 할 것으로 예상하고\n",
        "\n",
        "입력 모양은 Fashion MNIST 데이터 세트의 기본 크기 여야합니다.28x28 단색. \n",
        "\n",
        "데이터 크기를 조정하지 마십시오. input_shape는\n",
        "(28,28)을 입력 모양으로 만 사용합니다. "
      ]
    },
    {
      "cell_type": "markdown",
      "metadata": {
        "id": "l-3xqy_ga4KO"
      },
      "source": [
        "## import 하기"
      ]
    },
    {
      "cell_type": "code",
      "metadata": {
        "id": "G9M_SARJnil5"
      },
      "source": [
        "import numpy as np\n",
        "import matplotlib.pyplot as plt\n",
        "import tensorflow as tf\n",
        "\n",
        "from tensorflow.keras.layers import Dense, Flatten\n",
        "from tensorflow.keras.models import Sequential\n",
        "from tensorflow.keras.callbacks import ModelCheckpoint"
      ],
      "execution_count": null,
      "outputs": []
    },
    {
      "cell_type": "markdown",
      "metadata": {
        "id": "2HGYCJ1Tnil7"
      },
      "source": [
        "## Load dataset"
      ]
    },
    {
      "cell_type": "markdown",
      "metadata": {
        "id": "45rVXT4tnil8"
      },
      "source": [
        "[tf.keras.datasets](https://www.tensorflow.org/api_docs/python/tf/keras/datasets)\n",
        "\n",
        "* **boston_housing**: Boston housing price regression dataset.\n",
        "\n",
        "* **cifar10**: CIFAR10 small images classification dataset.\n",
        "\n",
        "* **cifar100**: CIFAR100 small images classification dataset.\n",
        "\n",
        "* **fashion_mnist**: Fashion-MNIST dataset.\n",
        "\n",
        "* **imdb**: IMDB sentiment classification dataset.\n",
        "\n",
        "* **mnist**: MNIST handwritten digits dataset.\n",
        "\n",
        "* **reuters**: Reuters topic classification dataset."
      ]
    },
    {
      "cell_type": "code",
      "metadata": {
        "id": "nWsdj7Dgnil8"
      },
      "source": [
        "fashion_mnist = tf.keras.datasets.fashion_mnist"
      ],
      "execution_count": null,
      "outputs": []
    },
    {
      "cell_type": "markdown",
      "metadata": {
        "id": "H05dHM_HoSYO"
      },
      "source": [
        "순서에 유의하기"
      ]
    },
    {
      "cell_type": "code",
      "metadata": {
        "id": "JWSZUSoWnil_",
        "colab": {
          "base_uri": "https://localhost:8080/"
        },
        "outputId": "3ccd8c3a-1f22-4cc5-942f-70f77d56974f"
      },
      "source": [
        "(x_train, y_train), (x_valid, y_valid) = fashion_mnist.load_data()"
      ],
      "execution_count": null,
      "outputs": [
        {
          "output_type": "stream",
          "text": [
            "Downloading data from https://storage.googleapis.com/tensorflow/tf-keras-datasets/train-labels-idx1-ubyte.gz\n",
            "32768/29515 [=================================] - 0s 0us/step\n",
            "Downloading data from https://storage.googleapis.com/tensorflow/tf-keras-datasets/train-images-idx3-ubyte.gz\n",
            "26427392/26421880 [==============================] - 0s 0us/step\n",
            "Downloading data from https://storage.googleapis.com/tensorflow/tf-keras-datasets/t10k-labels-idx1-ubyte.gz\n",
            "8192/5148 [===============================================] - 0s 0us/step\n",
            "Downloading data from https://storage.googleapis.com/tensorflow/tf-keras-datasets/t10k-images-idx3-ubyte.gz\n",
            "4423680/4422102 [==============================] - 0s 0us/step\n"
          ],
          "name": "stdout"
        }
      ]
    },
    {
      "cell_type": "code",
      "metadata": {
        "id": "tQINRel7nimB",
        "colab": {
          "base_uri": "https://localhost:8080/"
        },
        "outputId": "3a73b193-c0d6-4d01-9991-31a6e1cf9d67"
      },
      "source": [
        "x_train.shape, x_valid.shape"
      ],
      "execution_count": null,
      "outputs": [
        {
          "output_type": "execute_result",
          "data": {
            "text/plain": [
              "((60000, 28, 28), (10000, 28, 28))"
            ]
          },
          "metadata": {
            "tags": []
          },
          "execution_count": 4
        }
      ]
    },
    {
      "cell_type": "markdown",
      "metadata": {
        "id": "HRElfUgNzixV"
      },
      "source": [
        "(data 개수, 세로, 가로) train과 valid의 사진크기는 달라서는 안된다.\n",
        "\n",
        "---\n",
        "\n"
      ]
    },
    {
      "cell_type": "code",
      "metadata": {
        "id": "RBAF0elZbNii",
        "colab": {
          "base_uri": "https://localhost:8080/"
        },
        "outputId": "6986a610-8f59-4489-e8b2-93b1a21f2659"
      },
      "source": [
        "y_train.shape, y_valid.shape"
      ],
      "execution_count": null,
      "outputs": [
        {
          "output_type": "execute_result",
          "data": {
            "text/plain": [
              "((60000,), (10000,))"
            ]
          },
          "metadata": {
            "tags": []
          },
          "execution_count": 5
        }
      ]
    },
    {
      "cell_type": "markdown",
      "metadata": {
        "id": "JwOpcgkRny5W"
      },
      "source": [
        "**이미지 정규화 (Normalization)**"
      ]
    },
    {
      "cell_type": "markdown",
      "metadata": {
        "id": "BPF65YnpO7-8"
      },
      "source": [
        "정규화(Normalization) 전의 최소값(min), 최대값(max)을 확인"
      ]
    },
    {
      "cell_type": "code",
      "metadata": {
        "id": "psrsKNe7PFrn",
        "colab": {
          "base_uri": "https://localhost:8080/"
        },
        "outputId": "effbc00d-40a0-4912-cc48-c68da25734ec"
      },
      "source": [
        "x_train.min(), x_train.max()"
      ],
      "execution_count": null,
      "outputs": [
        {
          "output_type": "execute_result",
          "data": {
            "text/plain": [
              "(0, 255)"
            ]
          },
          "metadata": {
            "tags": []
          },
          "execution_count": 6
        }
      ]
    },
    {
      "cell_type": "markdown",
      "metadata": {
        "id": "MEt2ouXDPJej"
      },
      "source": [
        "정규화(Normalization) "
      ]
    },
    {
      "cell_type": "code",
      "metadata": {
        "id": "lFArqzZCntDh"
      },
      "source": [
        "x_train = x_train / 255.0\n",
        "x_valid = x_valid / 255.0"
      ],
      "execution_count": null,
      "outputs": []
    },
    {
      "cell_type": "markdown",
      "metadata": {
        "id": "dZK1P_g4PNCy"
      },
      "source": [
        "정규화 후 최소값/최대값 확인"
      ]
    },
    {
      "cell_type": "code",
      "metadata": {
        "id": "FWJTNdezPQ2h",
        "colab": {
          "base_uri": "https://localhost:8080/"
        },
        "outputId": "23e0f5c6-7611-4980-e8ae-cba56d3c5cb0"
      },
      "source": [
        "x_train.min(), x_train.max()"
      ],
      "execution_count": null,
      "outputs": [
        {
          "output_type": "execute_result",
          "data": {
            "text/plain": [
              "(0.0, 1.0)"
            ]
          },
          "metadata": {
            "tags": []
          },
          "execution_count": 8
        }
      ]
    },
    {
      "cell_type": "markdown",
      "metadata": {
        "id": "3ROhwEP_nimE"
      },
      "source": [
        "## 샘플 데이터 Visualization"
      ]
    },
    {
      "cell_type": "code",
      "metadata": {
        "id": "NdTUcqRDnimE",
        "colab": {
          "base_uri": "https://localhost:8080/",
          "height": 348
        },
        "outputId": "b61806b1-e460-4fb8-9c97-e728630e1fbe"
      },
      "source": [
        "# 시각화\n",
        "fig, axes = plt.subplots(2, 5)\n",
        "fig.set_size_inches(10, 5)\n",
        "\n",
        "for i in range(10):\n",
        "    axes[i//5, i%5].imshow(x_train[i], cmap='gray')\n",
        "    axes[i//5, i%5].set_title(str(y_train[i]), fontsize=15)\n",
        "    plt.setp( axes[i//5, i%5].get_xticklabels(), visible=False)\n",
        "    plt.setp( axes[i//5, i%5].get_yticklabels(), visible=False)\n",
        "    axes[i//5, i%5].axis('off')\n",
        "\n",
        "plt.tight_layout()\n",
        "plt.show()"
      ],
      "execution_count": null,
      "outputs": [
        {
          "output_type": "display_data",
          "data": {
            "image/png": "[encoded data removed]",
            "text/plain": [
              "<Figure size 720x360 with 10 Axes>"
            ]
          },
          "metadata": {
            "tags": []
          }
        }
      ]
    },
    {
      "cell_type": "markdown",
      "metadata": {
        "id": "jm4hXKxKbXLk"
      },
      "source": [
        "* 0: 티셔츠/탑\n",
        "* 1: 바지\n",
        "* 2: 풀오버(스웨터의 일종)\n",
        "* 3: 드레스\n",
        "* 4: 코트\n",
        "* 5: 샌들\n",
        "* 6: 셔츠\n",
        "* 7: 스니커즈\n",
        "* 8: 가방\n",
        "* 9: 앵클 부츠"
      ]
    },
    {
      "cell_type": "markdown",
      "metadata": {
        "id": "r6lRzZLGnimH"
      },
      "source": [
        "## Flatten Layer"
      ]
    },
    {
      "cell_type": "markdown",
      "metadata": {
        "id": "8US56qQKnimI"
      },
      "source": [
        "**Flatten이란?**\n",
        "\n",
        "* 고차원을 1D로 변환하여 **Dense Layer에 전달**해 주기 위하여 사용\n",
        "* 28 X 28 의 **2D**로 되어 있는 이미지를 784로 **1D로 펼쳐 주는 작업**"
      ]
    },
    {
      "cell_type": "code",
      "metadata": {
        "id": "LEMQwOUfcDLN"
      },
      "source": [
        "tf.keras.backend.set_floatx('float64')"
      ],
      "execution_count": null,
      "outputs": []
    },
    {
      "cell_type": "markdown",
      "metadata": {
        "id": "G3vxGKQFcIM1"
      },
      "source": [
        "**변환 전**"
      ]
    },
    {
      "cell_type": "code",
      "metadata": {
        "id": "T9zXLgI2nimI",
        "colab": {
          "base_uri": "https://localhost:8080/"
        },
        "outputId": "ab439217-3e7c-4b27-a4cc-6e055f89af50"
      },
      "source": [
        "x_train.shape"
      ],
      "execution_count": null,
      "outputs": [
        {
          "output_type": "execute_result",
          "data": {
            "text/plain": [
              "(60000, 28, 28)"
            ]
          },
          "metadata": {
            "tags": []
          },
          "execution_count": 11
        }
      ]
    },
    {
      "cell_type": "markdown",
      "metadata": {
        "id": "6fWhekBScMtW"
      },
      "source": [
        "**Flatten 적용 후**"
      ]
    },
    {
      "cell_type": "code",
      "metadata": {
        "id": "68jpK460nimL",
        "colab": {
          "base_uri": "https://localhost:8080/"
        },
        "outputId": "d358aa9d-ca5e-41c8-c95f-130f6aa9809f"
      },
      "source": [
        "x = Flatten(input_shape=(28, 28))\n",
        "print(x(x_train).shape)"
      ],
      "execution_count": null,
      "outputs": [
        {
          "output_type": "stream",
          "text": [
            "(60000, 784)\n"
          ],
          "name": "stdout"
        }
      ]
    },
    {
      "cell_type": "markdown",
      "metadata": {
        "id": "lrNFGpU4nimZ"
      },
      "source": [
        "## 활성함수 (relu, sigmoid, softmax)"
      ]
    },
    {
      "cell_type": "code",
      "metadata": {
        "id": "ZHztkvVXcfJs"
      },
      "source": [
        "from IPython.display import Image\n",
        "import numpy as np\n",
        "import matplotlib.pyplot as plt"
      ],
      "execution_count": null,
      "outputs": []
    },
    {
      "cell_type": "markdown",
      "metadata": {
        "id": "G-imd0h5fcJ-"
      },
      "source": [
        "### relu"
      ]
    },
    {
      "cell_type": "code",
      "metadata": {
        "id": "bp6jZrlenimc"
      },
      "source": [
        "def relu(x):\n",
        "    return np.maximum(x, 0)"
      ],
      "execution_count": null,
      "outputs": []
    },
    {
      "cell_type": "code",
      "metadata": {
        "id": "DKy6nS3pnime"
      },
      "source": [
        "x = np.linspace(-10, 10)\n",
        "y = relu(x)"
      ],
      "execution_count": null,
      "outputs": []
    },
    {
      "cell_type": "code",
      "metadata": {
        "id": "cbEbU8wKnimh",
        "colab": {
          "base_uri": "https://localhost:8080/",
          "height": 444
        },
        "outputId": "d7a51630-22bd-42ec-8b68-c6701e6819b3"
      },
      "source": [
        "plt.figure(figsize=(10, 7))\n",
        "plt.plot(x, y)\n",
        "plt.title('ReLU activation function')\n",
        "plt.show()"
      ],
      "execution_count": null,
      "outputs": [
        {
          "output_type": "display_data",
          "data": {
            "image/png": "[encoded data removed]",
            "text/plain": [
              "<Figure size 720x504 with 1 Axes>"
            ]
          },
          "metadata": {
            "tags": [],
            "needs_background": "light"
          }
        }
      ]
    },
    {
      "cell_type": "markdown",
      "metadata": {
        "id": "scB0bIEOnimj"
      },
      "source": [
        "**Dense Layer에 ReLU activation 적용**"
      ]
    },
    {
      "cell_type": "code",
      "metadata": {
        "id": "J-h1CkySnimk",
        "colab": {
          "base_uri": "https://localhost:8080/"
        },
        "outputId": "c984a9ab-f97b-4a58-8fe8-fff3997265d3"
      },
      "source": [
        "Dense(20, activation='relu')"
      ],
      "execution_count": null,
      "outputs": [
        {
          "output_type": "execute_result",
          "data": {
            "text/plain": [
              "<tensorflow.python.keras.layers.core.Dense at 0x7f513c2d6710>"
            ]
          },
          "metadata": {
            "tags": []
          },
          "execution_count": 17
        }
      ]
    },
    {
      "cell_type": "markdown",
      "metadata": {
        "id": "IMI3Z9C7fIrf"
      },
      "source": [
        "### Sigmoid\n"
      ]
    },
    {
      "cell_type": "markdown",
      "metadata": {
        "id": "7ZINPMe4f6YG"
      },
      "source": [
        "\n",
        "\n",
        "$\\displaystyle s(z) = \\frac{1}{1+e^{-z}}$\n",
        "\n",
        "$z$ 값을 0과 1사이의 값으로 바꾸는 함수\n",
        "\n",
        "**Sigmoid 함수 원리**\n",
        "\n",
        "$\\frac{1}{1} = 1$인데, 분모 1에다 0보다 크거나 같은 어떤 수를 더 하면 그 결과는 1 보다 클수 없다.\n",
        "\n",
        "분모에 더 할 값은 $e^{-z}$, 이 값은 어떤 $z$가 주어져도 0보다 작아 지지 않는다.\n",
        "\n",
        "$e^{-z}$는 $z$의 값이 크면 클 수록 0에 가까운 작은 수가 되고 $z$값이 작으면 무한대에 가까운 큰 수가 된다\n",
        "\n",
        "따라서 $z$의 값이 크면 $e^{-z}$의 값이 작아져서 $\\frac{1}{1+e^{-z}}$의 값은 1에 가까워 지고 그 반대는 0에 가까워 진다.\n"
      ]
    },
    {
      "cell_type": "code",
      "metadata": {
        "id": "JRvVtsCdiPxT"
      },
      "source": [
        "def sigmoid(z):\n",
        "    return  1/(1+np.exp(-z))"
      ],
      "execution_count": null,
      "outputs": []
    },
    {
      "cell_type": "code",
      "metadata": {
        "id": "O0obfqMxiOuN",
        "colab": {
          "base_uri": "https://localhost:8080/",
          "height": 428
        },
        "outputId": "40b6fa40-6337-4519-816f-6b2039c3bb28"
      },
      "source": [
        "plt.figure(figsize=(10, 7))\n",
        "\n",
        "x = np.arange(-10, 10)\n",
        "y = sigmoid(x)\n",
        "\n",
        "plt.plot(x, y)\n",
        "plt.show()"
      ],
      "execution_count": null,
      "outputs": [
        {
          "output_type": "display_data",
          "data": {
            "image/png": "[encoded data removed]",
            "text/plain": [
              "<Figure size 720x504 with 1 Axes>"
            ]
          },
          "metadata": {
            "tags": [],
            "needs_background": "light"
          }
        }
      ]
    },
    {
      "cell_type": "markdown",
      "metadata": {
        "id": "WS9NPzGPnimm"
      },
      "source": [
        "### Softmax"
      ]
    },
    {
      "cell_type": "markdown",
      "metadata": {
        "id": "MIeuj7rac4XU"
      },
      "source": [
        "뉴런의 출력값에 대하여 class 분류를 위하여 마지막 단계에서 출력값에 대한 정규화를 해주는 함수"
      ]
    },
    {
      "cell_type": "markdown",
      "metadata": {
        "id": "_ij5kTRgc7Fv"
      },
      "source": [
        "사진속 인물이 지금 슬픈 표정인지, 웃는 표정인지, 화난 표정인지 확률적으로 수치화한다고 했을때,\n",
        "\n",
        "슬픔 (11%), 웃음 (29%), 화남(60%) 화같이 확률적 classification 을 할 때 용이하다.\n",
        "\n",
        "소프트맥스 함수의 특징은 **확률의 합은 언제나 1.0** 이다."
      ]
    },
    {
      "cell_type": "code",
      "metadata": {
        "id": "vi-7nWiGnimo",
        "colab": {
          "base_uri": "https://localhost:8080/",
          "height": 147
        },
        "outputId": "f6a1b62d-be35-4824-a5cf-cff2e5103f79"
      },
      "source": [
        "Image('https://i.stack.imgur.com/wxJKQ.jpg')"
      ],
      "execution_count": null,
      "outputs": [
        {
          "output_type": "execute_result",
          "data": {
            "image/jpeg": "[encoded data removed]",
            "text/plain": [
              "<IPython.core.display.Image object>"
            ]
          },
          "metadata": {
            "tags": []
          },
          "execution_count": 17
        }
      ]
    },
    {
      "cell_type": "code",
      "metadata": {
        "id": "yrb1_CwmdKVs",
        "colab": {
          "base_uri": "https://localhost:8080/"
        },
        "outputId": "62c34f18-2beb-4689-db39-e06e067a80bd"
      },
      "source": [
        "import numpy as np\n",
        "\n",
        "a = np.random.uniform(low=0.0, high=10.0, size=3)\n",
        "\n",
        "def softmax(a) :\n",
        "    exp_a = np.exp(a)\n",
        "    sum_exp_a = np.sum(exp_a)\n",
        "    y = exp_a / sum_exp_a\n",
        "    return y\n",
        "\n",
        "y = softmax(a)\n",
        "print('Class 별 확률 값 출력')\n",
        "print('===' * 10)\n",
        "for i in range(3):\n",
        "    print('Class {} 의 확률: {:.3f}'.format(i, y[i]))\n",
        "print('===' * 10)\n",
        "print('Class 별 확률 값의 합: {:.1f}'.format(y.sum()))"
      ],
      "execution_count": null,
      "outputs": [
        {
          "output_type": "stream",
          "text": [
            "Class 별 확률 값 출력\n",
            "==============================\n",
            "Class 0 의 확률: 0.001\n",
            "Class 1 의 확률: 0.000\n",
            "Class 2 의 확률: 0.999\n",
            "==============================\n",
            "Class 별 확률 값의 합: 1.0\n"
          ],
          "name": "stdout"
        }
      ]
    },
    {
      "cell_type": "markdown",
      "metadata": {
        "id": "09ief1f7dWTo"
      },
      "source": [
        "다중분류의 맨 마지막 출력층 활성함수로는 Dense layer에 'softmax'를 적용\n",
        "\n",
        "* 단, Dense 레이어의 unit이 2보다 크거나 같은 경우에만 해당 (만약, 1이라면 'sigmoid'를 활성함수로 설정)"
      ]
    },
    {
      "cell_type": "code",
      "metadata": {
        "id": "8KldDsW4nim2",
        "colab": {
          "base_uri": "https://localhost:8080/"
        },
        "outputId": "b755c473-2393-4a23-f95e-7c26d91400c6"
      },
      "source": [
        "Dense(10, activation='softmax')"
      ],
      "execution_count": null,
      "outputs": [
        {
          "output_type": "execute_result",
          "data": {
            "text/plain": [
              "<tensorflow.python.keras.layers.core.Dense at 0x7f513c202b90>"
            ]
          },
          "metadata": {
            "tags": []
          },
          "execution_count": 22
        }
      ]
    },
    {
      "cell_type": "markdown",
      "metadata": {
        "id": "D6B3UzpUnim4"
      },
      "source": [
        "## 모델 정의 (Sequential)"
      ]
    },
    {
      "cell_type": "code",
      "metadata": {
        "id": "PCDinGHSnim5"
      },
      "source": [
        "model = Sequential([\n",
        "    # Flatten으로 shape 펼치기\n",
        "    Flatten(input_shape=(28, 28)),\n",
        "    # Dense Layer\n",
        "    Dense(1024, activation='relu'),\n",
        "    Dense(512, activation='relu'),\n",
        "    Dense(256, activation='relu'),\n",
        "    Dense(128, activation='relu'),\n",
        "    Dense(64, activation='relu'),\n",
        "    # Classification을 위한 Softmax \n",
        "    Dense(10, activation='softmax'),\n",
        "])"
      ],
      "execution_count": null,
      "outputs": []
    },
    {
      "cell_type": "code",
      "metadata": {
        "id": "5u4rp7tB-4A1",
        "colab": {
          "base_uri": "https://localhost:8080/"
        },
        "outputId": "d63cdb59-4a64-4275-e150-714ecaa234e2"
      },
      "source": [
        "model.summary()"
      ],
      "execution_count": null,
      "outputs": [
        {
          "output_type": "stream",
          "text": [
            "Model: \"sequential\"\n",
            "_________________________________________________________________\n",
            "Layer (type)                 Output Shape              Param #   \n",
            "=================================================================\n",
            "flatten_1 (Flatten)          (None, 784)               0         \n",
            "_________________________________________________________________\n",
            "dense_2 (Dense)              (None, 1024)              803840    \n",
            "_________________________________________________________________\n",
            "dense_3 (Dense)              (None, 512)               524800    \n",
            "_________________________________________________________________\n",
            "dense_4 (Dense)              (None, 256)               131328    \n",
            "_________________________________________________________________\n",
            "dense_5 (Dense)              (None, 128)               32896     \n",
            "_________________________________________________________________\n",
            "dense_6 (Dense)              (None, 64)                8256      \n",
            "_________________________________________________________________\n",
            "dense_7 (Dense)              (None, 10)                650       \n",
            "=================================================================\n",
            "Total params: 1,501,770\n",
            "Trainable params: 1,501,770\n",
            "Non-trainable params: 0\n",
            "_________________________________________________________________\n"
          ],
          "name": "stdout"
        }
      ]
    },
    {
      "cell_type": "markdown",
      "metadata": {
        "id": "wnmQV-fDnim8"
      },
      "source": [
        "## 컴파일 (compile)"
      ]
    },
    {
      "cell_type": "markdown",
      "metadata": {
        "id": "pHQ1abHXK8e9"
      },
      "source": [
        "1. `optimizer`는 가장 최적화가 잘되는 알고리즘인 'adam'을 사용\n",
        "2. `loss`설정\n",
        "  * 출력층 activation이 `sigmoid` 인 경우: `binary_crossentropy`\n",
        "  * 출력층 activation이 `softmax` 인 경우: \n",
        "    * 원핫인코딩(O): `categorical_crossentropy`\n",
        "    * 원핫인코딩(X): `sparse_categorical_crossentropy`)\n",
        "3. `metrics`를 'acc' 혹은 'accuracy'로 지정하면, 학습시 정확도를 모니터링 할 수 있다.\n"
      ]
    },
    {
      "cell_type": "markdown",
      "metadata": {
        "id": "QIhoCbT7ggE6"
      },
      "source": [
        "**원핫인코딩 여부 체크방법**"
      ]
    },
    {
      "cell_type": "markdown",
      "metadata": {
        "id": "fy8ubEBUhSWc"
      },
      "source": [
        "케이스 1: 원핫인코딩 (X) "
      ]
    },
    {
      "cell_type": "code",
      "metadata": {
        "id": "Yv2PHWQ2_C8N",
        "colab": {
          "base_uri": "https://localhost:8080/",
          "height": 34
        },
        "outputId": "5ca27f59-a7c4-42f1-cd00-7090448b3018"
      },
      "source": [
        "y_train[0]"
      ],
      "execution_count": null,
      "outputs": [
        {
          "output_type": "execute_result",
          "data": {
            "text/plain": [
              "9"
            ]
          },
          "metadata": {
            "tags": []
          },
          "execution_count": 54
        }
      ]
    },
    {
      "cell_type": "markdown",
      "metadata": {
        "id": "Bdn3dV7whepf"
      },
      "source": [
        "케이스 2: 원핫인코딩 (O) "
      ]
    },
    {
      "cell_type": "code",
      "metadata": {
        "id": "0oxwTCpbhVJF",
        "colab": {
          "base_uri": "https://localhost:8080/"
        },
        "outputId": "cb2aa803-a560-476f-b60f-d932e086c361"
      },
      "source": [
        "print(tf.one_hot(y_train[0], 10))"
      ],
      "execution_count": null,
      "outputs": [
        {
          "output_type": "stream",
          "text": [
            "tf.Tensor([0. 0. 0. 0. 0. 0. 0. 0. 0. 1.], shape=(10,), dtype=float32)\n"
          ],
          "name": "stdout"
        }
      ]
    },
    {
      "cell_type": "markdown",
      "metadata": {
        "id": "eXGMljJQhmp_"
      },
      "source": [
        "model.compile()"
      ]
    },
    {
      "cell_type": "code",
      "metadata": {
        "id": "QCLw6RMZnim-"
      },
      "source": [
        "model.compile(optimizer='adam', loss='sparse_categorical_crossentropy', metrics=['acc'])"
      ],
      "execution_count": null,
      "outputs": []
    },
    {
      "cell_type": "markdown",
      "metadata": {
        "id": "NyLUPgGCninB"
      },
      "source": [
        "## ModelCheckpoint: 체크포인트 생성"
      ]
    },
    {
      "cell_type": "code",
      "metadata": {
        "id": "qJwGq3PoninB"
      },
      "source": [
        "checkpoint_path = \"my_checkpoint.ckpt\"\n",
        "checkpoint = ModelCheckpoint(filepath=checkpoint_path, \n",
        "                             save_weights_only=True, \n",
        "                             save_best_only=True, \n",
        "                             monitor='val_loss', \n",
        "                             verbose=1)"
      ],
      "execution_count": null,
      "outputs": []
    },
    {
      "cell_type": "markdown",
      "metadata": {
        "id": "v3mjb5EAninE"
      },
      "source": [
        "## 학습 (fit)"
      ]
    },
    {
      "cell_type": "code",
      "metadata": {
        "id": "2uHXDA_vninF",
        "colab": {
          "base_uri": "https://localhost:8080/"
        },
        "outputId": "e21a14e7-c13a-4914-fb06-46cee7f12b84"
      },
      "source": [
        "history = model.fit(x_train, y_train,\n",
        "                    validation_data=(x_valid, y_valid),\n",
        "                    epochs=20,\n",
        "                    callbacks=[checkpoint],\n",
        "                   )"
      ],
      "execution_count": null,
      "outputs": [
        {
          "output_type": "stream",
          "text": [
            "Epoch 1/20\n",
            "1875/1875 [==============================] - 14s 6ms/step - loss: 0.5094 - acc: 0.8149 - val_loss: 0.4402 - val_acc: 0.8400\n",
            "\n",
            "Epoch 00001: val_loss improved from inf to 0.44020, saving model to my_checkpoint.ckpt\n",
            "Epoch 2/20\n",
            "1875/1875 [==============================] - 10s 5ms/step - loss: 0.3797 - acc: 0.8630 - val_loss: 0.4821 - val_acc: 0.8201\n",
            "\n",
            "Epoch 00002: val_loss did not improve from 0.44020\n",
            "Epoch 3/20\n",
            "1875/1875 [==============================] - 10s 5ms/step - loss: 0.3442 - acc: 0.8746 - val_loss: 0.3874 - val_acc: 0.8634\n",
            "\n",
            "Epoch 00003: val_loss improved from 0.44020 to 0.38741, saving model to my_checkpoint.ckpt\n",
            "Epoch 4/20\n",
            "1875/1875 [==============================] - 10s 5ms/step - loss: 0.3158 - acc: 0.8835 - val_loss: 0.3692 - val_acc: 0.8654\n",
            "\n",
            "Epoch 00004: val_loss improved from 0.38741 to 0.36917, saving model to my_checkpoint.ckpt\n",
            "Epoch 5/20\n",
            "1875/1875 [==============================] - 10s 5ms/step - loss: 0.2979 - acc: 0.8915 - val_loss: 0.3415 - val_acc: 0.8775\n",
            "\n",
            "Epoch 00005: val_loss improved from 0.36917 to 0.34153, saving model to my_checkpoint.ckpt\n",
            "Epoch 6/20\n",
            "1875/1875 [==============================] - 11s 6ms/step - loss: 0.2815 - acc: 0.8964 - val_loss: 0.3415 - val_acc: 0.8772\n",
            "\n",
            "Epoch 00006: val_loss improved from 0.34153 to 0.34151, saving model to my_checkpoint.ckpt\n",
            "Epoch 7/20\n",
            "1875/1875 [==============================] - 11s 6ms/step - loss: 0.2728 - acc: 0.8997 - val_loss: 0.3304 - val_acc: 0.8845\n",
            "\n",
            "Epoch 00007: val_loss improved from 0.34151 to 0.33035, saving model to my_checkpoint.ckpt\n",
            "Epoch 8/20\n",
            "1875/1875 [==============================] - 10s 5ms/step - loss: 0.2601 - acc: 0.9034 - val_loss: 0.3556 - val_acc: 0.8762\n",
            "\n",
            "Epoch 00008: val_loss did not improve from 0.33035\n",
            "Epoch 9/20\n",
            "1875/1875 [==============================] - 10s 5ms/step - loss: 0.2496 - acc: 0.9073 - val_loss: 0.3435 - val_acc: 0.8803\n",
            "\n",
            "Epoch 00009: val_loss did not improve from 0.33035\n",
            "Epoch 10/20\n",
            "1875/1875 [==============================] - 10s 6ms/step - loss: 0.2407 - acc: 0.9101 - val_loss: 0.3433 - val_acc: 0.8822\n",
            "\n",
            "Epoch 00010: val_loss did not improve from 0.33035\n",
            "Epoch 11/20\n",
            "1875/1875 [==============================] - 10s 6ms/step - loss: 0.2293 - acc: 0.9143 - val_loss: 0.3484 - val_acc: 0.8847\n",
            "\n",
            "Epoch 00011: val_loss did not improve from 0.33035\n",
            "Epoch 12/20\n",
            "1875/1875 [==============================] - 10s 6ms/step - loss: 0.2247 - acc: 0.9165 - val_loss: 0.3290 - val_acc: 0.8894\n",
            "\n",
            "Epoch 00012: val_loss improved from 0.33035 to 0.32905, saving model to my_checkpoint.ckpt\n",
            "Epoch 13/20\n",
            "1875/1875 [==============================] - 11s 6ms/step - loss: 0.2194 - acc: 0.9183 - val_loss: 0.3170 - val_acc: 0.8907\n",
            "\n",
            "Epoch 00013: val_loss improved from 0.32905 to 0.31704, saving model to my_checkpoint.ckpt\n",
            "Epoch 14/20\n",
            "1875/1875 [==============================] - 10s 5ms/step - loss: 0.2087 - acc: 0.9218 - val_loss: 0.3701 - val_acc: 0.8921\n",
            "\n",
            "Epoch 00014: val_loss did not improve from 0.31704\n",
            "Epoch 15/20\n",
            "1875/1875 [==============================] - 10s 5ms/step - loss: 0.2118 - acc: 0.9209 - val_loss: 0.3454 - val_acc: 0.8924\n",
            "\n",
            "Epoch 00015: val_loss did not improve from 0.31704\n",
            "Epoch 16/20\n",
            "1875/1875 [==============================] - 10s 6ms/step - loss: 0.2001 - acc: 0.9247 - val_loss: 0.3469 - val_acc: 0.8934\n",
            "\n",
            "Epoch 00016: val_loss did not improve from 0.31704\n",
            "Epoch 17/20\n",
            "1875/1875 [==============================] - 10s 5ms/step - loss: 0.1981 - acc: 0.9255 - val_loss: 0.3476 - val_acc: 0.8970\n",
            "\n",
            "Epoch 00017: val_loss did not improve from 0.31704\n",
            "Epoch 18/20\n",
            "1875/1875 [==============================] - 10s 5ms/step - loss: 0.1877 - acc: 0.9289 - val_loss: 0.3480 - val_acc: 0.8948\n",
            "\n",
            "Epoch 00018: val_loss did not improve from 0.31704\n",
            "Epoch 19/20\n",
            "1875/1875 [==============================] - 11s 6ms/step - loss: 0.1831 - acc: 0.9303 - val_loss: 0.4180 - val_acc: 0.8885\n",
            "\n",
            "Epoch 00019: val_loss did not improve from 0.31704\n",
            "Epoch 20/20\n",
            "1875/1875 [==============================] - 11s 6ms/step - loss: 0.1796 - acc: 0.9317 - val_loss: 0.3818 - val_acc: 0.8919\n",
            "\n",
            "Epoch 00020: val_loss did not improve from 0.31704\n"
          ],
          "name": "stdout"
        }
      ]
    },
    {
      "cell_type": "markdown",
      "metadata": {
        "id": "wwnduSgRiBw8"
      },
      "source": [
        "## 학습 완료 후 Load Weights (ModelCheckpoint)"
      ]
    },
    {
      "cell_type": "code",
      "metadata": {
        "id": "4jO1ucZ9ninH",
        "colab": {
          "base_uri": "https://localhost:8080/"
        },
        "outputId": "bbff76c9-eda4-41ac-deb9-251e942ac034"
      },
      "source": [
        "# checkpoint 를 저장한 파일명을 입력\n",
        "model.load_weights(checkpoint_path)"
      ],
      "execution_count": null,
      "outputs": [
        {
          "output_type": "execute_result",
          "data": {
            "text/plain": [
              "<tensorflow.python.training.tracking.util.CheckpointLoadStatus at 0x7f512a471410>"
            ]
          },
          "metadata": {
            "tags": []
          },
          "execution_count": 33
        }
      ]
    },
    {
      "cell_type": "markdown",
      "metadata": {
        "id": "3nVIYnIuPaPR"
      },
      "source": [
        "## 학습한 후 검증하고 싶다면?"
      ]
    },
    {
      "cell_type": "code",
      "metadata": {
        "id": "lxt8cK6pPdmb",
        "colab": {
          "base_uri": "https://localhost:8080/"
        },
        "outputId": "04aaae4e-f9fc-452d-df37-b618be7e05d9"
      },
      "source": [
        "model.evaluate(x_valid, y_valid)"
      ],
      "execution_count": null,
      "outputs": [
        {
          "output_type": "stream",
          "text": [
            "313/313 [==============================] - 1s 4ms/step - loss: 0.3170 - acc: 0.8907\n"
          ],
          "name": "stdout"
        },
        {
          "output_type": "execute_result",
          "data": {
            "text/plain": [
              "[0.31703868486881254, 0.8907]"
            ]
          },
          "metadata": {
            "tags": []
          },
          "execution_count": 35
        }
      ]
    },
    {
      "cell_type": "markdown",
      "metadata": {
        "id": "95cG8SGdninJ"
      },
      "source": [
        "## 학습 Loss (오차)에 대한 시각화"
      ]
    },
    {
      "cell_type": "code",
      "metadata": {
        "id": "y_xoc7AlninJ",
        "colab": {
          "base_uri": "https://localhost:8080/",
          "height": 572
        },
        "outputId": "03ea4335-6740-4b4c-b3da-69b894d38291"
      },
      "source": [
        "plt.figure(figsize=(12, 9))\n",
        "plt.plot(np.arange(1, 21), history.history['loss'])\n",
        "plt.plot(np.arange(1, 21), history.history['val_loss'])\n",
        "plt.title('Loss / Val Loss', fontsize=20)\n",
        "plt.xlabel('Epochs')\n",
        "plt.ylabel('Loss')\n",
        "plt.legend(['loss', 'val_loss'], fontsize=15)\n",
        "plt.show()"
      ],
      "execution_count": null,
      "outputs": [
        {
          "output_type": "display_data",
          "data": {
            "image/png": "[encoded data removed]",
            "text/plain": [
              "<Figure size 864x648 with 1 Axes>"
            ]
          },
          "metadata": {
            "tags": [],
            "needs_background": "light"
          }
        }
      ]
    },
    {
      "cell_type": "code",
      "metadata": {
        "id": "2iSgnD3fninN",
        "colab": {
          "base_uri": "https://localhost:8080/",
          "height": 572
        },
        "outputId": "80530134-c021-44fa-c18a-bced098c814d"
      },
      "source": [
        "plt.figure(figsize=(12, 9))\n",
        "plt.plot(np.arange(1, 21), history.history['acc'])\n",
        "plt.plot(np.arange(1, 21), history.history['val_acc'])\n",
        "plt.title('Acc / Val Acc', fontsize=20)\n",
        "plt.xlabel('Epochs')\n",
        "plt.ylabel('Acc')\n",
        "plt.legend(['acc', 'val_acc'], fontsize=15)\n",
        "plt.show()"
      ],
      "execution_count": null,
      "outputs": [
        {
          "output_type": "display_data",
          "data": {
            "image/png": "[encoded data removed]",
            "text/plain": [
              "<Figure size 864x648 with 1 Axes>"
            ]
          },
          "metadata": {
            "tags": [],
            "needs_background": "light"
          }
        }
      ]
    }
  ]
}